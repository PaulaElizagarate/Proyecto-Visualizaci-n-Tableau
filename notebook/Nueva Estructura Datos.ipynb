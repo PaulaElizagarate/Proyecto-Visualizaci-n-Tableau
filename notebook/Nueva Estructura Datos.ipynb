{
 "cells": [
  {
   "cell_type": "code",
   "execution_count": 1,
   "id": "26455643",
   "metadata": {},
   "outputs": [],
   "source": [
    "import pandas as pd\n",
    "import numpy as np "
   ]
  },
  {
   "cell_type": "code",
   "execution_count": 2,
   "id": "7038c8df",
   "metadata": {},
   "outputs": [],
   "source": [
    "df= pd.read_csv(\"data/polluted_countries.csv\")"
   ]
  },
  {
   "cell_type": "code",
   "execution_count": 3,
   "id": "631edc69",
   "metadata": {
    "scrolled": false
   },
   "outputs": [
    {
     "data": {
      "text/html": [
       "<div>\n",
       "<style scoped>\n",
       "    .dataframe tbody tr th:only-of-type {\n",
       "        vertical-align: middle;\n",
       "    }\n",
       "\n",
       "    .dataframe tbody tr th {\n",
       "        vertical-align: top;\n",
       "    }\n",
       "\n",
       "    .dataframe thead th {\n",
       "        text-align: right;\n",
       "    }\n",
       "</style>\n",
       "<table border=\"1\" class=\"dataframe\">\n",
       "  <thead>\n",
       "    <tr style=\"text-align: right;\">\n",
       "      <th></th>\n",
       "      <th>Unnamed: 0</th>\n",
       "      <th>Rank</th>\n",
       "      <th>Country/Region</th>\n",
       "      <th>Population</th>\n",
       "      <th>Year</th>\n",
       "      <th>Pollution</th>\n",
       "    </tr>\n",
       "  </thead>\n",
       "  <tbody>\n",
       "    <tr>\n",
       "      <th>0</th>\n",
       "      <td>0</td>\n",
       "      <td>1</td>\n",
       "      <td>Bangladesh</td>\n",
       "      <td>164689383</td>\n",
       "      <td>2021</td>\n",
       "      <td>76.9</td>\n",
       "    </tr>\n",
       "    <tr>\n",
       "      <th>1</th>\n",
       "      <td>1</td>\n",
       "      <td>2</td>\n",
       "      <td>Chad</td>\n",
       "      <td>16425859</td>\n",
       "      <td>2021</td>\n",
       "      <td>75.9</td>\n",
       "    </tr>\n",
       "    <tr>\n",
       "      <th>2</th>\n",
       "      <td>2</td>\n",
       "      <td>3</td>\n",
       "      <td>Pakistan</td>\n",
       "      <td>220892331</td>\n",
       "      <td>2021</td>\n",
       "      <td>66.8</td>\n",
       "    </tr>\n",
       "    <tr>\n",
       "      <th>3</th>\n",
       "      <td>3</td>\n",
       "      <td>4</td>\n",
       "      <td>Tajikistan</td>\n",
       "      <td>9537642</td>\n",
       "      <td>2021</td>\n",
       "      <td>59.4</td>\n",
       "    </tr>\n",
       "    <tr>\n",
       "      <th>4</th>\n",
       "      <td>4</td>\n",
       "      <td>5</td>\n",
       "      <td>India</td>\n",
       "      <td>1380004385</td>\n",
       "      <td>2021</td>\n",
       "      <td>58.1</td>\n",
       "    </tr>\n",
       "  </tbody>\n",
       "</table>\n",
       "</div>"
      ],
      "text/plain": [
       "   Unnamed: 0  Rank Country/Region  Population  Year  Pollution\n",
       "0           0     1     Bangladesh   164689383  2021       76.9\n",
       "1           1     2           Chad    16425859  2021       75.9\n",
       "2           2     3       Pakistan   220892331  2021       66.8\n",
       "3           3     4     Tajikistan     9537642  2021       59.4\n",
       "4           4     5          India  1380004385  2021       58.1"
      ]
     },
     "execution_count": 3,
     "metadata": {},
     "output_type": "execute_result"
    }
   ],
   "source": [
    "df.head(5)"
   ]
  },
  {
   "cell_type": "code",
   "execution_count": 4,
   "id": "e99f031d",
   "metadata": {},
   "outputs": [
    {
     "name": "stdout",
     "output_type": "stream",
     "text": [
      "<class 'pandas.core.frame.DataFrame'>\n",
      "RangeIndex: 472 entries, 0 to 471\n",
      "Data columns (total 6 columns):\n",
      " #   Column          Non-Null Count  Dtype  \n",
      "---  ------          --------------  -----  \n",
      " 0   Unnamed: 0      472 non-null    int64  \n",
      " 1   Rank            472 non-null    int64  \n",
      " 2   Country/Region  472 non-null    object \n",
      " 3   Population      472 non-null    int64  \n",
      " 4   Year            472 non-null    int64  \n",
      " 5   Pollution       472 non-null    float64\n",
      "dtypes: float64(1), int64(4), object(1)\n",
      "memory usage: 22.2+ KB\n"
     ]
    }
   ],
   "source": [
    "df.info()"
   ]
  },
  {
   "cell_type": "code",
   "execution_count": 5,
   "id": "05011e54",
   "metadata": {},
   "outputs": [
    {
     "name": "stderr",
     "output_type": "stream",
     "text": [
      "/var/folders/8l/zm2f15815wb7zxjgwnj0zkjh0000gn/T/ipykernel_1339/3495385129.py:1: FutureWarning: This dataframe has a column name that matches the 'value_name' column name of the resulting Dataframe. In the future this will raise an error, please set the 'value_name' parameter of DataFrame.melt to a unique name.\n",
      "  df1= df.melt(id_vars=[\"Rank\",\"Country/Region\", \"Population\"],\n"
     ]
    }
   ],
   "source": [
    "df1= df.melt(id_vars=[\"Rank\",\"Country/Region\", \"Population\"],\n",
    "           var_name= \"Year\",\n",
    "           value_name= \"Pollution\")"
   ]
  },
  {
   "cell_type": "code",
   "execution_count": 22,
   "id": "021ed1b3",
   "metadata": {},
   "outputs": [
    {
     "data": {
      "text/html": [
       "<div>\n",
       "<style scoped>\n",
       "    .dataframe tbody tr th:only-of-type {\n",
       "        vertical-align: middle;\n",
       "    }\n",
       "\n",
       "    .dataframe tbody tr th {\n",
       "        vertical-align: top;\n",
       "    }\n",
       "\n",
       "    .dataframe thead th {\n",
       "        text-align: right;\n",
       "    }\n",
       "</style>\n",
       "<table border=\"1\" class=\"dataframe\">\n",
       "  <thead>\n",
       "    <tr style=\"text-align: right;\">\n",
       "      <th></th>\n",
       "      <th>Rank</th>\n",
       "      <th>Country/Region</th>\n",
       "      <th>Population</th>\n",
       "      <th>Year</th>\n",
       "      <th>Pollution</th>\n",
       "    </tr>\n",
       "  </thead>\n",
       "  <tbody>\n",
       "    <tr>\n",
       "      <th>0</th>\n",
       "      <td>1</td>\n",
       "      <td>Bangladesh</td>\n",
       "      <td>164689383</td>\n",
       "      <td>2021</td>\n",
       "      <td>76.9</td>\n",
       "    </tr>\n",
       "    <tr>\n",
       "      <th>1</th>\n",
       "      <td>2</td>\n",
       "      <td>Chad</td>\n",
       "      <td>16425859</td>\n",
       "      <td>2021</td>\n",
       "      <td>75.9</td>\n",
       "    </tr>\n",
       "    <tr>\n",
       "      <th>2</th>\n",
       "      <td>3</td>\n",
       "      <td>Pakistan</td>\n",
       "      <td>220892331</td>\n",
       "      <td>2021</td>\n",
       "      <td>66.8</td>\n",
       "    </tr>\n",
       "    <tr>\n",
       "      <th>3</th>\n",
       "      <td>4</td>\n",
       "      <td>Tajikistan</td>\n",
       "      <td>9537642</td>\n",
       "      <td>2021</td>\n",
       "      <td>59.4</td>\n",
       "    </tr>\n",
       "    <tr>\n",
       "      <th>4</th>\n",
       "      <td>5</td>\n",
       "      <td>India</td>\n",
       "      <td>1380004385</td>\n",
       "      <td>2021</td>\n",
       "      <td>58.1</td>\n",
       "    </tr>\n",
       "  </tbody>\n",
       "</table>\n",
       "</div>"
      ],
      "text/plain": [
       "   Rank Country/Region  Population  Year  Pollution\n",
       "0     1     Bangladesh   164689383  2021       76.9\n",
       "1     2           Chad    16425859  2021       75.9\n",
       "2     3       Pakistan   220892331  2021       66.8\n",
       "3     4     Tajikistan     9537642  2021       59.4\n",
       "4     5          India  1380004385  2021       58.1"
      ]
     },
     "execution_count": 22,
     "metadata": {},
     "output_type": "execute_result"
    }
   ],
   "source": [
    "df1.head(5)"
   ]
  },
  {
   "cell_type": "code",
   "execution_count": 23,
   "id": "59c112bd",
   "metadata": {
    "scrolled": false
   },
   "outputs": [
    {
     "name": "stdout",
     "output_type": "stream",
     "text": [
      "<class 'pandas.core.frame.DataFrame'>\n",
      "RangeIndex: 472 entries, 0 to 471\n",
      "Data columns (total 5 columns):\n",
      " #   Column          Non-Null Count  Dtype  \n",
      "---  ------          --------------  -----  \n",
      " 0   Rank            472 non-null    int64  \n",
      " 1   Country/Region  472 non-null    object \n",
      " 2   Population      472 non-null    int64  \n",
      " 3   Year            472 non-null    object \n",
      " 4   Pollution       472 non-null    float64\n",
      "dtypes: float64(1), int64(2), object(2)\n",
      "memory usage: 18.6+ KB\n"
     ]
    }
   ],
   "source": [
    "df1.info()"
   ]
  },
  {
   "cell_type": "code",
   "execution_count": 24,
   "id": "949884ff",
   "metadata": {},
   "outputs": [],
   "source": [
    "#Países contaminados definitivo\n",
    "df1.to_csv('polluted_countries.csv')"
   ]
  },
  {
   "cell_type": "code",
   "execution_count": 6,
   "id": "d9476e85",
   "metadata": {},
   "outputs": [
    {
     "data": {
      "text/html": [
       "<div>\n",
       "<style scoped>\n",
       "    .dataframe tbody tr th:only-of-type {\n",
       "        vertical-align: middle;\n",
       "    }\n",
       "\n",
       "    .dataframe tbody tr th {\n",
       "        vertical-align: top;\n",
       "    }\n",
       "\n",
       "    .dataframe thead th {\n",
       "        text-align: right;\n",
       "    }\n",
       "</style>\n",
       "<table border=\"1\" class=\"dataframe\">\n",
       "  <thead>\n",
       "    <tr style=\"text-align: right;\">\n",
       "      <th></th>\n",
       "      <th>Unnamed: 0</th>\n",
       "      <th>Rank</th>\n",
       "      <th>City</th>\n",
       "      <th>country</th>\n",
       "      <th>Date</th>\n",
       "      <th>Pollution</th>\n",
       "    </tr>\n",
       "  </thead>\n",
       "  <tbody>\n",
       "    <tr>\n",
       "      <th>0</th>\n",
       "      <td>0</td>\n",
       "      <td>1</td>\n",
       "      <td>bhiwadi</td>\n",
       "      <td>india</td>\n",
       "      <td>2021</td>\n",
       "      <td>106.2</td>\n",
       "    </tr>\n",
       "    <tr>\n",
       "      <th>1</th>\n",
       "      <td>1</td>\n",
       "      <td>2</td>\n",
       "      <td>ghaziabad</td>\n",
       "      <td>india</td>\n",
       "      <td>2021</td>\n",
       "      <td>102.0</td>\n",
       "    </tr>\n",
       "    <tr>\n",
       "      <th>2</th>\n",
       "      <td>2</td>\n",
       "      <td>3</td>\n",
       "      <td>hotan</td>\n",
       "      <td>china</td>\n",
       "      <td>2021</td>\n",
       "      <td>101.5</td>\n",
       "    </tr>\n",
       "    <tr>\n",
       "      <th>3</th>\n",
       "      <td>3</td>\n",
       "      <td>4</td>\n",
       "      <td>delhi</td>\n",
       "      <td>india</td>\n",
       "      <td>2021</td>\n",
       "      <td>96.4</td>\n",
       "    </tr>\n",
       "    <tr>\n",
       "      <th>4</th>\n",
       "      <td>4</td>\n",
       "      <td>5</td>\n",
       "      <td>jaunpur</td>\n",
       "      <td>india</td>\n",
       "      <td>2021</td>\n",
       "      <td>95.3</td>\n",
       "    </tr>\n",
       "    <tr>\n",
       "      <th>5</th>\n",
       "      <td>5</td>\n",
       "      <td>6</td>\n",
       "      <td>faisalabad</td>\n",
       "      <td>pakistan</td>\n",
       "      <td>2021</td>\n",
       "      <td>94.2</td>\n",
       "    </tr>\n",
       "    <tr>\n",
       "      <th>6</th>\n",
       "      <td>6</td>\n",
       "      <td>7</td>\n",
       "      <td>noida</td>\n",
       "      <td>india</td>\n",
       "      <td>2021</td>\n",
       "      <td>91.4</td>\n",
       "    </tr>\n",
       "    <tr>\n",
       "      <th>7</th>\n",
       "      <td>7</td>\n",
       "      <td>8</td>\n",
       "      <td>bahawalpur</td>\n",
       "      <td>pakistan</td>\n",
       "      <td>2021</td>\n",
       "      <td>91.0</td>\n",
       "    </tr>\n",
       "    <tr>\n",
       "      <th>8</th>\n",
       "      <td>8</td>\n",
       "      <td>9</td>\n",
       "      <td>peshawar</td>\n",
       "      <td>pakistan</td>\n",
       "      <td>2021</td>\n",
       "      <td>89.6</td>\n",
       "    </tr>\n",
       "    <tr>\n",
       "      <th>9</th>\n",
       "      <td>9</td>\n",
       "      <td>10</td>\n",
       "      <td>bagpat</td>\n",
       "      <td>india</td>\n",
       "      <td>2021</td>\n",
       "      <td>89.1</td>\n",
       "    </tr>\n",
       "  </tbody>\n",
       "</table>\n",
       "</div>"
      ],
      "text/plain": [
       "   Unnamed: 0  Rank        City    country  Date  Pollution\n",
       "0           0     1     bhiwadi      india  2021      106.2\n",
       "1           1     2   ghaziabad      india  2021      102.0\n",
       "2           2     3       hotan      china  2021      101.5\n",
       "3           3     4       delhi      india  2021       96.4\n",
       "4           4     5     jaunpur      india  2021       95.3\n",
       "5           5     6  faisalabad   pakistan  2021       94.2\n",
       "6           6     7       noida      india  2021       91.4\n",
       "7           7     8  bahawalpur   pakistan  2021       91.0\n",
       "8           8     9    peshawar   pakistan  2021       89.6\n",
       "9           9    10      bagpat      india  2021       89.1"
      ]
     },
     "execution_count": 6,
     "metadata": {},
     "output_type": "execute_result"
    }
   ],
   "source": [
    "df2= pd.read_csv(\"data/polluted_cities.csv\")\n",
    "df2.head(10)"
   ]
  },
  {
   "cell_type": "code",
   "execution_count": 8,
   "id": "1e3d400d",
   "metadata": {
    "scrolled": true
   },
   "outputs": [],
   "source": [
    "df3= df2[\"City\"], df2[\"country\"], df2[\"JAN(2021)\"], df2[\"FEB(2021)\"], df2[\"MAR(2021)\"], df2[\"APR(2021)\"], df2[\"MAY(2021)\"], df2[\"JUN(2021)\"], df2[\"JUL(2021)\"], df2[\"AUG(2021)\"], df2[\"SEP(2021)\"],df2[\"OCT(2021)\"],df2[\"NOV(2021)\"],df2[\"DEC(2021)\"]"
   ]
  },
  {
   "cell_type": "code",
   "execution_count": null,
   "id": "5afd7b93",
   "metadata": {
    "scrolled": false
   },
   "outputs": [],
   "source": [
    "df3= pd.DataFrame(df3).T\n",
    "df3"
   ]
  },
  {
   "cell_type": "code",
   "execution_count": 54,
   "id": "a2bc5e9a",
   "metadata": {},
   "outputs": [],
   "source": [
    "df3.columns= [\"City\", \"Country\",\"01/2021\",\"02/2021\",\"03/2021\",\"04/2021\",\"05/2021\",\"06/2021\",\"07/2021\",\"08/2021\",\"09/2021\",\"10/2021\",\"11/2021\",\"12/2021\"]"
   ]
  },
  {
   "cell_type": "code",
   "execution_count": 55,
   "id": "7abcbf79",
   "metadata": {
    "scrolled": true
   },
   "outputs": [
    {
     "name": "stdout",
     "output_type": "stream",
     "text": [
      "<class 'pandas.core.frame.DataFrame'>\n",
      "RangeIndex: 6475 entries, 0 to 6474\n",
      "Data columns (total 14 columns):\n",
      " #   Column   Non-Null Count  Dtype \n",
      "---  ------   --------------  ----- \n",
      " 0   City     6474 non-null   object\n",
      " 1   Country  6475 non-null   object\n",
      " 2   01/2021  6475 non-null   object\n",
      " 3   02/2021  6475 non-null   object\n",
      " 4   03/2021  6475 non-null   object\n",
      " 5   04/2021  6475 non-null   object\n",
      " 6   05/2021  6475 non-null   object\n",
      " 7   06/2021  6475 non-null   object\n",
      " 8   07/2021  6475 non-null   object\n",
      " 9   08/2021  6475 non-null   object\n",
      " 10  09/2021  6475 non-null   object\n",
      " 11  10/2021  6475 non-null   object\n",
      " 12  11/2021  6475 non-null   object\n",
      " 13  12/2021  6475 non-null   object\n",
      "dtypes: object(14)\n",
      "memory usage: 708.3+ KB\n"
     ]
    }
   ],
   "source": [
    "df3.info()"
   ]
  },
  {
   "cell_type": "code",
   "execution_count": 58,
   "id": "722dec50",
   "metadata": {},
   "outputs": [],
   "source": [
    "df4= df3.melt(id_vars=[\"City\",\"Country\"],\n",
    "           var_name= \"Date\",\n",
    "           value_name= \"Pollution\")"
   ]
  },
  {
   "cell_type": "code",
   "execution_count": 59,
   "id": "8713717b",
   "metadata": {
    "scrolled": true
   },
   "outputs": [
    {
     "data": {
      "text/html": [
       "<div>\n",
       "<style scoped>\n",
       "    .dataframe tbody tr th:only-of-type {\n",
       "        vertical-align: middle;\n",
       "    }\n",
       "\n",
       "    .dataframe tbody tr th {\n",
       "        vertical-align: top;\n",
       "    }\n",
       "\n",
       "    .dataframe thead th {\n",
       "        text-align: right;\n",
       "    }\n",
       "</style>\n",
       "<table border=\"1\" class=\"dataframe\">\n",
       "  <thead>\n",
       "    <tr style=\"text-align: right;\">\n",
       "      <th></th>\n",
       "      <th>City</th>\n",
       "      <th>Country</th>\n",
       "      <th>Date</th>\n",
       "      <th>Pollution</th>\n",
       "    </tr>\n",
       "  </thead>\n",
       "  <tbody>\n",
       "    <tr>\n",
       "      <th>0</th>\n",
       "      <td>bhiwadi</td>\n",
       "      <td>india</td>\n",
       "      <td>01/2021</td>\n",
       "      <td>145.8</td>\n",
       "    </tr>\n",
       "    <tr>\n",
       "      <th>1</th>\n",
       "      <td>ghaziabad</td>\n",
       "      <td>india</td>\n",
       "      <td>01/2021</td>\n",
       "      <td>199.9</td>\n",
       "    </tr>\n",
       "    <tr>\n",
       "      <th>2</th>\n",
       "      <td>hotan</td>\n",
       "      <td>china</td>\n",
       "      <td>01/2021</td>\n",
       "      <td>0.0</td>\n",
       "    </tr>\n",
       "    <tr>\n",
       "      <th>3</th>\n",
       "      <td>delhi</td>\n",
       "      <td>india</td>\n",
       "      <td>01/2021</td>\n",
       "      <td>183.7</td>\n",
       "    </tr>\n",
       "    <tr>\n",
       "      <th>4</th>\n",
       "      <td>jaunpur</td>\n",
       "      <td>india</td>\n",
       "      <td>01/2021</td>\n",
       "      <td>182.2</td>\n",
       "    </tr>\n",
       "  </tbody>\n",
       "</table>\n",
       "</div>"
      ],
      "text/plain": [
       "        City Country     Date Pollution\n",
       "0    bhiwadi   india  01/2021     145.8\n",
       "1  ghaziabad   india  01/2021     199.9\n",
       "2      hotan   china  01/2021       0.0\n",
       "3      delhi   india  01/2021     183.7\n",
       "4    jaunpur   india  01/2021     182.2"
      ]
     },
     "execution_count": 59,
     "metadata": {},
     "output_type": "execute_result"
    }
   ],
   "source": [
    "df4.head(5)"
   ]
  },
  {
   "cell_type": "code",
   "execution_count": 60,
   "id": "00b550d2",
   "metadata": {},
   "outputs": [],
   "source": [
    "#Ciudades en año 2021 definitivo\n",
    "df4.to_csv('polluted_cities_21.csv')"
   ]
  },
  {
   "cell_type": "code",
   "execution_count": 74,
   "id": "cbea9a08",
   "metadata": {
    "scrolled": false
   },
   "outputs": [],
   "source": [
    "del(df2[\"JAN(2021)\"], df2[\"FEB(2021)\"], df2[\"MAR(2021)\"], df2[\"APR(2021)\"], df2[\"MAY(2021)\"], df2[\"JUN(2021)\"], df2[\"JUL(2021)\"], df2[\"AUG(2021)\"], df2[\"SEP(2021)\"],df2[\"OCT(2021)\"],df2[\"NOV(2021)\"],df2[\"DEC(2021)\"])"
   ]
  },
  {
   "cell_type": "code",
   "execution_count": 76,
   "id": "d182339c",
   "metadata": {
    "scrolled": false
   },
   "outputs": [
    {
     "name": "stdout",
     "output_type": "stream",
     "text": [
      "<class 'pandas.core.frame.DataFrame'>\n",
      "RangeIndex: 6475 entries, 0 to 6474\n",
      "Data columns (total 8 columns):\n",
      " #   Column   Non-Null Count  Dtype  \n",
      "---  ------   --------------  -----  \n",
      " 0   Rank     6475 non-null   int64  \n",
      " 1   City     6474 non-null   object \n",
      " 2   2021     6475 non-null   float64\n",
      " 3   2020     6475 non-null   float64\n",
      " 4   2019     6475 non-null   float64\n",
      " 5   2018     6475 non-null   float64\n",
      " 6   2017     6475 non-null   float64\n",
      " 7   country  6475 non-null   object \n",
      "dtypes: float64(5), int64(1), object(2)\n",
      "memory usage: 404.8+ KB\n"
     ]
    }
   ],
   "source": [
    "df2.info()"
   ]
  },
  {
   "cell_type": "code",
   "execution_count": 77,
   "id": "85688c15",
   "metadata": {},
   "outputs": [],
   "source": [
    "df2= df2.melt(id_vars=[\"Rank\",\"City\", \"country\"],\n",
    "           var_name= \"Date\",\n",
    "           value_name= \"Pollution\")"
   ]
  },
  {
   "cell_type": "code",
   "execution_count": 82,
   "id": "86436694",
   "metadata": {
    "scrolled": true
   },
   "outputs": [],
   "source": [
    "#df2.info()\n",
    "#df2.head(5)"
   ]
  },
  {
   "cell_type": "code",
   "execution_count": 83,
   "id": "03e007de",
   "metadata": {},
   "outputs": [],
   "source": [
    "#Ciudades definitivo\n",
    "df2.to_csv('polluted_cities.csv')"
   ]
  },
  {
   "cell_type": "code",
   "execution_count": 85,
   "id": "994dea75",
   "metadata": {},
   "outputs": [
    {
     "data": {
      "text/html": [
       "<div>\n",
       "<style scoped>\n",
       "    .dataframe tbody tr th:only-of-type {\n",
       "        vertical-align: middle;\n",
       "    }\n",
       "\n",
       "    .dataframe tbody tr th {\n",
       "        vertical-align: top;\n",
       "    }\n",
       "\n",
       "    .dataframe thead th {\n",
       "        text-align: right;\n",
       "    }\n",
       "</style>\n",
       "<table border=\"1\" class=\"dataframe\">\n",
       "  <thead>\n",
       "    <tr style=\"text-align: right;\">\n",
       "      <th></th>\n",
       "      <th>Unnamed: 0</th>\n",
       "      <th>country</th>\n",
       "      <th>year</th>\n",
       "      <th>born</th>\n",
       "      <th>male_born</th>\n",
       "      <th>female_born</th>\n",
       "      <th>birth_rate</th>\n",
       "      <th>fertility_rate</th>\n",
       "      <th>variation</th>\n",
       "    </tr>\n",
       "  </thead>\n",
       "  <tbody>\n",
       "    <tr>\n",
       "      <th>0</th>\n",
       "      <td>0</td>\n",
       "      <td>Spain</td>\n",
       "      <td>2017</td>\n",
       "      <td>393181.0</td>\n",
       "      <td>202478.0</td>\n",
       "      <td>190703.0</td>\n",
       "      <td>841.0</td>\n",
       "      <td>1.31</td>\n",
       "      <td>-1.92</td>\n",
       "    </tr>\n",
       "    <tr>\n",
       "      <th>1</th>\n",
       "      <td>1</td>\n",
       "      <td>Germany</td>\n",
       "      <td>2017</td>\n",
       "      <td>784901.0</td>\n",
       "      <td>402517.0</td>\n",
       "      <td>382384.0</td>\n",
       "      <td>950.0</td>\n",
       "      <td>1.57</td>\n",
       "      <td>-1.88</td>\n",
       "    </tr>\n",
       "    <tr>\n",
       "      <th>2</th>\n",
       "      <td>2</td>\n",
       "      <td>United Kingdom</td>\n",
       "      <td>2017</td>\n",
       "      <td>754754.0</td>\n",
       "      <td>387030.0</td>\n",
       "      <td>367724.0</td>\n",
       "      <td>1140.0</td>\n",
       "      <td>1.74</td>\n",
       "      <td>-2.79</td>\n",
       "    </tr>\n",
       "    <tr>\n",
       "      <th>3</th>\n",
       "      <td>3</td>\n",
       "      <td>France</td>\n",
       "      <td>2017</td>\n",
       "      <td>770045.0</td>\n",
       "      <td>394058.0</td>\n",
       "      <td>375987.0</td>\n",
       "      <td>1150.0</td>\n",
       "      <td>1.89</td>\n",
       "      <td>-1.56</td>\n",
       "    </tr>\n",
       "    <tr>\n",
       "      <th>4</th>\n",
       "      <td>4</td>\n",
       "      <td>Italy</td>\n",
       "      <td>2017</td>\n",
       "      <td>458151.0</td>\n",
       "      <td>235733.0</td>\n",
       "      <td>222418.0</td>\n",
       "      <td>760.0</td>\n",
       "      <td>1.32</td>\n",
       "      <td>-1.49</td>\n",
       "    </tr>\n",
       "  </tbody>\n",
       "</table>\n",
       "</div>"
      ],
      "text/plain": [
       "   Unnamed: 0         country  year      born  male_born  female_born  \\\n",
       "0           0           Spain  2017  393181.0   202478.0     190703.0   \n",
       "1           1         Germany  2017  784901.0   402517.0     382384.0   \n",
       "2           2  United Kingdom  2017  754754.0   387030.0     367724.0   \n",
       "3           3          France  2017  770045.0   394058.0     375987.0   \n",
       "4           4           Italy  2017  458151.0   235733.0     222418.0   \n",
       "\n",
       "   birth_rate  fertility_rate  variation  \n",
       "0       841.0            1.31      -1.92  \n",
       "1       950.0            1.57      -1.88  \n",
       "2      1140.0            1.74      -2.79  \n",
       "3      1150.0            1.89      -1.56  \n",
       "4       760.0            1.32      -1.49  "
      ]
     },
     "execution_count": 85,
     "metadata": {},
     "output_type": "execute_result"
    }
   ],
   "source": [
    "df5= pd.read_csv(\"data/birthrate.csv\")\n",
    "df5.head(5)"
   ]
  },
  {
   "cell_type": "code",
   "execution_count": 86,
   "id": "240185dc",
   "metadata": {},
   "outputs": [],
   "source": [
    "df5[\"birth_rate\"]= df5[\"birth_rate\"]/100"
   ]
  },
  {
   "cell_type": "code",
   "execution_count": 87,
   "id": "db261512",
   "metadata": {},
   "outputs": [
    {
     "data": {
      "text/html": [
       "<div>\n",
       "<style scoped>\n",
       "    .dataframe tbody tr th:only-of-type {\n",
       "        vertical-align: middle;\n",
       "    }\n",
       "\n",
       "    .dataframe tbody tr th {\n",
       "        vertical-align: top;\n",
       "    }\n",
       "\n",
       "    .dataframe thead th {\n",
       "        text-align: right;\n",
       "    }\n",
       "</style>\n",
       "<table border=\"1\" class=\"dataframe\">\n",
       "  <thead>\n",
       "    <tr style=\"text-align: right;\">\n",
       "      <th></th>\n",
       "      <th>Unnamed: 0</th>\n",
       "      <th>country</th>\n",
       "      <th>year</th>\n",
       "      <th>born</th>\n",
       "      <th>male_born</th>\n",
       "      <th>female_born</th>\n",
       "      <th>birth_rate</th>\n",
       "      <th>fertility_rate</th>\n",
       "      <th>variation</th>\n",
       "    </tr>\n",
       "  </thead>\n",
       "  <tbody>\n",
       "    <tr>\n",
       "      <th>0</th>\n",
       "      <td>0</td>\n",
       "      <td>Spain</td>\n",
       "      <td>2017</td>\n",
       "      <td>393181.0</td>\n",
       "      <td>202478.0</td>\n",
       "      <td>190703.0</td>\n",
       "      <td>8.41</td>\n",
       "      <td>1.31</td>\n",
       "      <td>-1.92</td>\n",
       "    </tr>\n",
       "    <tr>\n",
       "      <th>1</th>\n",
       "      <td>1</td>\n",
       "      <td>Germany</td>\n",
       "      <td>2017</td>\n",
       "      <td>784901.0</td>\n",
       "      <td>402517.0</td>\n",
       "      <td>382384.0</td>\n",
       "      <td>9.50</td>\n",
       "      <td>1.57</td>\n",
       "      <td>-1.88</td>\n",
       "    </tr>\n",
       "    <tr>\n",
       "      <th>2</th>\n",
       "      <td>2</td>\n",
       "      <td>United Kingdom</td>\n",
       "      <td>2017</td>\n",
       "      <td>754754.0</td>\n",
       "      <td>387030.0</td>\n",
       "      <td>367724.0</td>\n",
       "      <td>11.40</td>\n",
       "      <td>1.74</td>\n",
       "      <td>-2.79</td>\n",
       "    </tr>\n",
       "    <tr>\n",
       "      <th>3</th>\n",
       "      <td>3</td>\n",
       "      <td>France</td>\n",
       "      <td>2017</td>\n",
       "      <td>770045.0</td>\n",
       "      <td>394058.0</td>\n",
       "      <td>375987.0</td>\n",
       "      <td>11.50</td>\n",
       "      <td>1.89</td>\n",
       "      <td>-1.56</td>\n",
       "    </tr>\n",
       "    <tr>\n",
       "      <th>4</th>\n",
       "      <td>4</td>\n",
       "      <td>Italy</td>\n",
       "      <td>2017</td>\n",
       "      <td>458151.0</td>\n",
       "      <td>235733.0</td>\n",
       "      <td>222418.0</td>\n",
       "      <td>7.60</td>\n",
       "      <td>1.32</td>\n",
       "      <td>-1.49</td>\n",
       "    </tr>\n",
       "  </tbody>\n",
       "</table>\n",
       "</div>"
      ],
      "text/plain": [
       "   Unnamed: 0         country  year      born  male_born  female_born  \\\n",
       "0           0           Spain  2017  393181.0   202478.0     190703.0   \n",
       "1           1         Germany  2017  784901.0   402517.0     382384.0   \n",
       "2           2  United Kingdom  2017  754754.0   387030.0     367724.0   \n",
       "3           3          France  2017  770045.0   394058.0     375987.0   \n",
       "4           4           Italy  2017  458151.0   235733.0     222418.0   \n",
       "\n",
       "   birth_rate  fertility_rate  variation  \n",
       "0        8.41            1.31      -1.92  \n",
       "1        9.50            1.57      -1.88  \n",
       "2       11.40            1.74      -2.79  \n",
       "3       11.50            1.89      -1.56  \n",
       "4        7.60            1.32      -1.49  "
      ]
     },
     "execution_count": 87,
     "metadata": {},
     "output_type": "execute_result"
    }
   ],
   "source": [
    "df5.head(5)"
   ]
  },
  {
   "cell_type": "code",
   "execution_count": 88,
   "id": "146390cb",
   "metadata": {},
   "outputs": [
    {
     "name": "stdout",
     "output_type": "stream",
     "text": [
      "<class 'pandas.core.frame.DataFrame'>\n",
      "RangeIndex: 965 entries, 0 to 964\n",
      "Data columns (total 9 columns):\n",
      " #   Column          Non-Null Count  Dtype  \n",
      "---  ------          --------------  -----  \n",
      " 0   Unnamed: 0      965 non-null    int64  \n",
      " 1   country         965 non-null    object \n",
      " 2   year            965 non-null    int64  \n",
      " 3   born            965 non-null    float64\n",
      " 4   male_born       965 non-null    float64\n",
      " 5   female_born     965 non-null    float64\n",
      " 6   birth_rate      965 non-null    float64\n",
      " 7   fertility_rate  965 non-null    float64\n",
      " 8   variation       965 non-null    float64\n",
      "dtypes: float64(6), int64(2), object(1)\n",
      "memory usage: 68.0+ KB\n"
     ]
    }
   ],
   "source": [
    "df5.info()"
   ]
  },
  {
   "cell_type": "code",
   "execution_count": 89,
   "id": "48e0539c",
   "metadata": {},
   "outputs": [],
   "source": [
    "df5.to_csv('birthrate.csv')"
   ]
  },
  {
   "cell_type": "markdown",
   "id": "a285c8dc",
   "metadata": {},
   "source": [
    "### Poner en mayusc"
   ]
  },
  {
   "cell_type": "code",
   "execution_count": 9,
   "id": "956214ed",
   "metadata": {},
   "outputs": [],
   "source": [
    "df6= pd.read_csv(\"data/polluted_cities_21.csv\")"
   ]
  },
  {
   "cell_type": "code",
   "execution_count": 11,
   "id": "ee75bd12",
   "metadata": {},
   "outputs": [],
   "source": [
    "df6.Country= df6.Country.str.title()"
   ]
  },
  {
   "cell_type": "code",
   "execution_count": 13,
   "id": "26aeb7ce",
   "metadata": {},
   "outputs": [],
   "source": [
    "df6.City= df6.City.str.title()"
   ]
  },
  {
   "cell_type": "code",
   "execution_count": 14,
   "id": "88646654",
   "metadata": {
    "scrolled": true
   },
   "outputs": [
    {
     "data": {
      "text/html": [
       "<div>\n",
       "<style scoped>\n",
       "    .dataframe tbody tr th:only-of-type {\n",
       "        vertical-align: middle;\n",
       "    }\n",
       "\n",
       "    .dataframe tbody tr th {\n",
       "        vertical-align: top;\n",
       "    }\n",
       "\n",
       "    .dataframe thead th {\n",
       "        text-align: right;\n",
       "    }\n",
       "</style>\n",
       "<table border=\"1\" class=\"dataframe\">\n",
       "  <thead>\n",
       "    <tr style=\"text-align: right;\">\n",
       "      <th></th>\n",
       "      <th>Unnamed: 0</th>\n",
       "      <th>City</th>\n",
       "      <th>Country</th>\n",
       "      <th>Date</th>\n",
       "      <th>Pollution</th>\n",
       "    </tr>\n",
       "  </thead>\n",
       "  <tbody>\n",
       "    <tr>\n",
       "      <th>0</th>\n",
       "      <td>0</td>\n",
       "      <td>Bhiwadi</td>\n",
       "      <td>India</td>\n",
       "      <td>01/2021</td>\n",
       "      <td>145.8</td>\n",
       "    </tr>\n",
       "    <tr>\n",
       "      <th>1</th>\n",
       "      <td>1</td>\n",
       "      <td>Ghaziabad</td>\n",
       "      <td>India</td>\n",
       "      <td>01/2021</td>\n",
       "      <td>199.9</td>\n",
       "    </tr>\n",
       "    <tr>\n",
       "      <th>2</th>\n",
       "      <td>2</td>\n",
       "      <td>Hotan</td>\n",
       "      <td>China</td>\n",
       "      <td>01/2021</td>\n",
       "      <td>0.0</td>\n",
       "    </tr>\n",
       "    <tr>\n",
       "      <th>3</th>\n",
       "      <td>3</td>\n",
       "      <td>Delhi</td>\n",
       "      <td>India</td>\n",
       "      <td>01/2021</td>\n",
       "      <td>183.7</td>\n",
       "    </tr>\n",
       "    <tr>\n",
       "      <th>4</th>\n",
       "      <td>4</td>\n",
       "      <td>Jaunpur</td>\n",
       "      <td>India</td>\n",
       "      <td>01/2021</td>\n",
       "      <td>182.2</td>\n",
       "    </tr>\n",
       "  </tbody>\n",
       "</table>\n",
       "</div>"
      ],
      "text/plain": [
       "   Unnamed: 0       City Country     Date  Pollution\n",
       "0           0    Bhiwadi   India  01/2021      145.8\n",
       "1           1  Ghaziabad   India  01/2021      199.9\n",
       "2           2      Hotan   China  01/2021        0.0\n",
       "3           3      Delhi   India  01/2021      183.7\n",
       "4           4    Jaunpur   India  01/2021      182.2"
      ]
     },
     "execution_count": 14,
     "metadata": {},
     "output_type": "execute_result"
    }
   ],
   "source": [
    "df6.head(5)"
   ]
  },
  {
   "cell_type": "code",
   "execution_count": 15,
   "id": "54bed52d",
   "metadata": {},
   "outputs": [],
   "source": [
    "df6.to_csv('polluted_cities_21.csv')"
   ]
  },
  {
   "cell_type": "code",
   "execution_count": 16,
   "id": "ebbbc408",
   "metadata": {},
   "outputs": [],
   "source": [
    "df7= pd.read_csv(\"data/cost_living.csv\")"
   ]
  },
  {
   "cell_type": "code",
   "execution_count": 20,
   "id": "450ce68c",
   "metadata": {
    "scrolled": false
   },
   "outputs": [
    {
     "data": {
      "text/html": [
       "<div>\n",
       "<style scoped>\n",
       "    .dataframe tbody tr th:only-of-type {\n",
       "        vertical-align: middle;\n",
       "    }\n",
       "\n",
       "    .dataframe tbody tr th {\n",
       "        vertical-align: top;\n",
       "    }\n",
       "\n",
       "    .dataframe thead th {\n",
       "        text-align: right;\n",
       "    }\n",
       "</style>\n",
       "<table border=\"1\" class=\"dataframe\">\n",
       "  <thead>\n",
       "    <tr style=\"text-align: right;\">\n",
       "      <th></th>\n",
       "      <th>Unnamed: 0</th>\n",
       "      <th>countries</th>\n",
       "      <th>cost_living_index</th>\n",
       "      <th>year</th>\n",
       "    </tr>\n",
       "  </thead>\n",
       "  <tbody>\n",
       "    <tr>\n",
       "      <th>0</th>\n",
       "      <td>0</td>\n",
       "      <td>Bermuda</td>\n",
       "      <td>146.2</td>\n",
       "      <td>2017</td>\n",
       "    </tr>\n",
       "    <tr>\n",
       "      <th>1</th>\n",
       "      <td>1</td>\n",
       "      <td>Switzerland</td>\n",
       "      <td>122.1</td>\n",
       "      <td>2017</td>\n",
       "    </tr>\n",
       "    <tr>\n",
       "      <th>2</th>\n",
       "      <td>2</td>\n",
       "      <td>Iceland</td>\n",
       "      <td>111.7</td>\n",
       "      <td>2017</td>\n",
       "    </tr>\n",
       "    <tr>\n",
       "      <th>3</th>\n",
       "      <td>3</td>\n",
       "      <td>Norway</td>\n",
       "      <td>106.3</td>\n",
       "      <td>2017</td>\n",
       "    </tr>\n",
       "    <tr>\n",
       "      <th>4</th>\n",
       "      <td>4</td>\n",
       "      <td>Bahamas</td>\n",
       "      <td>104.0</td>\n",
       "      <td>2017</td>\n",
       "    </tr>\n",
       "  </tbody>\n",
       "</table>\n",
       "</div>"
      ],
      "text/plain": [
       "   Unnamed: 0    countries  cost_living_index  year\n",
       "0           0      Bermuda              146.2  2017\n",
       "1           1  Switzerland              122.1  2017\n",
       "2           2      Iceland              111.7  2017\n",
       "3           3       Norway              106.3  2017\n",
       "4           4      Bahamas              104.0  2017"
      ]
     },
     "execution_count": 20,
     "metadata": {},
     "output_type": "execute_result"
    }
   ],
   "source": [
    "df7.head(5)"
   ]
  },
  {
   "cell_type": "code",
   "execution_count": 19,
   "id": "24a9974b",
   "metadata": {
    "scrolled": true
   },
   "outputs": [],
   "source": [
    "df7.countries= df7.countries.str.title()"
   ]
  },
  {
   "cell_type": "code",
   "execution_count": 21,
   "id": "70c1b8e9",
   "metadata": {},
   "outputs": [],
   "source": [
    "df7.to_csv('cost_living.csv')"
   ]
  },
  {
   "cell_type": "code",
   "execution_count": 22,
   "id": "0c2fe22a",
   "metadata": {},
   "outputs": [
    {
     "name": "stdout",
     "output_type": "stream",
     "text": [
      "<class 'pandas.core.frame.DataFrame'>\n",
      "RangeIndex: 612 entries, 0 to 611\n",
      "Data columns (total 4 columns):\n",
      " #   Column             Non-Null Count  Dtype  \n",
      "---  ------             --------------  -----  \n",
      " 0   Unnamed: 0         612 non-null    int64  \n",
      " 1   countries          612 non-null    object \n",
      " 2   cost_living_index  612 non-null    float64\n",
      " 3   year               612 non-null    int64  \n",
      "dtypes: float64(1), int64(2), object(1)\n",
      "memory usage: 19.2+ KB\n"
     ]
    }
   ],
   "source": [
    "df7.info()"
   ]
  },
  {
   "cell_type": "code",
   "execution_count": null,
   "id": "daabc68b",
   "metadata": {},
   "outputs": [],
   "source": []
  }
 ],
 "metadata": {
  "kernelspec": {
   "display_name": "Bootcamp",
   "language": "python",
   "name": "bootcamp"
  },
  "language_info": {
   "codemirror_mode": {
    "name": "ipython",
    "version": 3
   },
   "file_extension": ".py",
   "mimetype": "text/x-python",
   "name": "python",
   "nbconvert_exporter": "python",
   "pygments_lexer": "ipython3",
   "version": "3.9.13"
  }
 },
 "nbformat": 4,
 "nbformat_minor": 5
}
